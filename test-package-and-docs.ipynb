{
 "cells": [
  {
   "cell_type": "code",
   "execution_count": 1,
   "id": "dcbe5d83",
   "metadata": {
    "ExecuteTime": {
     "end_time": "2023-12-21T19:19:11.634195Z",
     "start_time": "2023-12-21T19:19:10.862021Z"
    }
   },
   "outputs": [],
   "source": [
    "from google.cloud import storage\n",
    "import os\n",
    "import glob\n",
    "import pandas as pd\n",
    "import psycopg2"
   ]
  },
  {
   "cell_type": "code",
   "execution_count": 2,
   "id": "db8ae604",
   "metadata": {
    "ExecuteTime": {
     "end_time": "2023-12-21T19:19:11.637967Z",
     "start_time": "2023-12-21T19:19:11.635630Z"
    }
   },
   "outputs": [],
   "source": [
    "import configs\n",
    "import fenestraTask"
   ]
  },
  {
   "cell_type": "code",
   "execution_count": 3,
   "id": "b4bb7115",
   "metadata": {
    "ExecuteTime": {
     "end_time": "2023-12-21T19:19:11.640384Z",
     "start_time": "2023-12-21T19:19:11.638936Z"
    }
   },
   "outputs": [],
   "source": [
    "# All the functions have docstring, considering going through them for all the examples and structure. \n",
    "# fenestraTask.process_and_ingest_files.__doc__"
   ]
  },
  {
   "cell_type": "code",
   "execution_count": 4,
   "id": "e53d2473",
   "metadata": {
    "ExecuteTime": {
     "end_time": "2023-12-21T19:19:12.046312Z",
     "start_time": "2023-12-21T19:19:12.042498Z"
    }
   },
   "outputs": [],
   "source": [
    "connection_params = configs.DB_CONFIG"
   ]
  },
  {
   "cell_type": "code",
   "execution_count": 5,
   "id": "4f892b28",
   "metadata": {
    "ExecuteTime": {
     "end_time": "2023-12-21T19:19:12.500607Z",
     "start_time": "2023-12-21T19:19:12.494498Z"
    }
   },
   "outputs": [],
   "source": [
    "service_account_key_path = configs.TASK_CONFIG[\"service_account_key_path\"]\n",
    "os.environ['GOOGLE_APPLICATION_CREDENTIALS'] = service_account_key_path\n",
    "bucket_name = configs.TASK_CONFIG[\"bucket_name\"]\n",
    "local_download_path = configs.TASK_CONFIG[\"local_download_path\"]\n",
    "downloaded_files_record = configs.TASK_CONFIG[\"downloaded_files_record\"]\n",
    "processed_files_record = configs.TASK_CONFIG[\"processed_files_record\"]"
   ]
  },
  {
   "cell_type": "code",
   "execution_count": 6,
   "id": "95ac4018",
   "metadata": {
    "ExecuteTime": {
     "end_time": "2023-12-21T19:19:13.411022Z",
     "start_time": "2023-12-21T19:19:13.407176Z"
    }
   },
   "outputs": [],
   "source": [
    "table_name = 'ads_data_imp'"
   ]
  },
  {
   "cell_type": "code",
   "execution_count": 7,
   "id": "fac327b2",
   "metadata": {
    "ExecuteTime": {
     "end_time": "2023-12-21T16:51:05.871377Z",
     "start_time": "2023-12-21T16:51:05.332722Z"
    }
   },
   "outputs": [],
   "source": [
    "fenestraTask.db_operation('create_table', connection_params=connection_params, table_name=\"ads_data_imp\")"
   ]
  },
  {
   "cell_type": "code",
   "execution_count": 20,
   "id": "0e229cd6",
   "metadata": {
    "ExecuteTime": {
     "end_time": "2023-12-21T18:21:50.684196Z",
     "start_time": "2023-12-21T18:21:50.143201Z"
    }
   },
   "outputs": [
    {
     "name": "stdout",
     "output_type": "stream",
     "text": [
      "All files from the bucket have already been downloaded.\n"
     ]
    }
   ],
   "source": [
    "fenestraTask.download_new_files(bucket_name, local_download_path, downloaded_files_record)"
   ]
  },
  {
   "cell_type": "code",
   "execution_count": 26,
   "id": "4c8381fd",
   "metadata": {
    "ExecuteTime": {
     "end_time": "2023-12-21T18:22:56.869393Z",
     "start_time": "2023-12-21T18:22:56.861058Z"
    }
   },
   "outputs": [
    {
     "name": "stdout",
     "output_type": "stream",
     "text": [
      "All files have been ingested.\n"
     ]
    }
   ],
   "source": [
    "fenestraTask.process_and_ingest_files(local_download_path, processed_files_record, table_name)"
   ]
  },
  {
   "cell_type": "code",
   "execution_count": 27,
   "id": "71f2812e",
   "metadata": {
    "ExecuteTime": {
     "end_time": "2023-12-21T18:23:14.013963Z",
     "start_time": "2023-12-21T18:23:13.426165Z"
    }
   },
   "outputs": [
    {
     "name": "stdout",
     "output_type": "stream",
     "text": [
      "ads_data_imp\n"
     ]
    }
   ],
   "source": [
    "fenestraTask.db_operation('list_tables',connection_params)"
   ]
  },
  {
   "cell_type": "code",
   "execution_count": 18,
   "id": "9a0b463d",
   "metadata": {
    "ExecuteTime": {
     "end_time": "2023-12-21T17:35:20.035269Z",
     "start_time": "2023-12-21T17:35:19.538824Z"
    }
   },
   "outputs": [
    {
     "name": "stdout",
     "output_type": "stream",
     "text": [
      "Table 'ads_data_imps_2' dropped.\n",
      "Table 'ads_data' dropped.\n"
     ]
    }
   ],
   "source": [
    "tables_to_drop = [\"ads_data_imps_2\",\"ads_data\"]\n",
    "fenestraTask.db_operation('drop_tables', connection_params, table_list=tables_to_drop)"
   ]
  },
  {
   "cell_type": "markdown",
   "id": "b88985cf",
   "metadata": {
    "ExecuteTime": {
     "end_time": "2023-12-21T19:11:02.911369Z",
     "start_time": "2023-12-21T19:11:02.908068Z"
    }
   },
   "source": [
    "# Push to DB was done via Terminal because of slow response and errors interfacing via Python. "
   ]
  },
  {
   "cell_type": "markdown",
   "id": "eb6ff88a",
   "metadata": {
    "ExecuteTime": {
     "end_time": "2023-12-21T19:12:26.501609Z",
     "start_time": "2023-12-21T19:12:26.255702Z"
    }
   },
   "source": [
    "![terminal-ss](ss.png)"
   ]
  },
  {
   "cell_type": "markdown",
   "id": "024f23d7",
   "metadata": {},
   "source": [
    "# Total Number of Rows"
   ]
  },
  {
   "cell_type": "code",
   "execution_count": 22,
   "id": "ea31ab9a",
   "metadata": {
    "ExecuteTime": {
     "end_time": "2023-12-21T17:36:33.357998Z",
     "start_time": "2023-12-21T17:36:23.260381Z"
    }
   },
   "outputs": [
    {
     "name": "stdout",
     "output_type": "stream",
     "text": [
      "(8318525,)\n"
     ]
    }
   ],
   "source": [
    "fenestraTask.db_operation(\"custom_query\",connection_params, query=\"SELECT COUNT(*) FROM ads_data_imp\")"
   ]
  },
  {
   "cell_type": "markdown",
   "id": "ddfde460",
   "metadata": {},
   "source": [
    "# Columns"
   ]
  },
  {
   "cell_type": "code",
   "execution_count": 28,
   "id": "05bb886b",
   "metadata": {
    "ExecuteTime": {
     "end_time": "2023-12-21T18:25:20.998767Z",
     "start_time": "2023-12-21T18:25:20.602371Z"
    },
    "scrolled": true
   },
   "outputs": [
    {
     "name": "stdout",
     "output_type": "stream",
     "text": [
      "('time',)\n",
      "('advertiserid',)\n",
      "('orderid',)\n",
      "('lineitemid',)\n",
      "('creativeid',)\n",
      "('creativeversion',)\n",
      "('creativesize',)\n",
      "('adunitid',)\n",
      "('domain',)\n",
      "('countryid',)\n",
      "('regionid',)\n",
      "('metroid',)\n",
      "('cityid',)\n",
      "('browserid',)\n",
      "('osid',)\n",
      "('osversion',)\n",
      "('timeusec2',)\n",
      "('keypart',)\n",
      "('product',)\n",
      "('requestedadunitsizes',)\n",
      "('bandwidthgroupid',)\n",
      "('mobiledevice',)\n",
      "('iscompanion',)\n",
      "('devicecategory',)\n",
      "('activevieweligibleimpression',)\n",
      "('mobilecarrier',)\n",
      "('estimatedbackfillrevenue',)\n",
      "('gfpcontentid',)\n",
      "('postalcodeid',)\n",
      "('bandwidthid',)\n",
      "('audiencesegmentids',)\n",
      "('mobilecapability',)\n",
      "('publisherprovidedid',)\n",
      "('videoposition',)\n",
      "('podposition',)\n",
      "('videofallbackposition',)\n",
      "('isinterstitial',)\n",
      "('eventtimeusec2',)\n",
      "('eventkeypart',)\n",
      "('yieldgroupcompanyid',)\n",
      "('requestlanguage',)\n",
      "('dealid',)\n",
      "('sellerreserveprice',)\n",
      "('dealtype',)\n",
      "('adxaccountid',)\n",
      "('buyer',)\n",
      "('advertiser',)\n",
      "('anonymous',)\n",
      "('impressionid',)\n"
     ]
    }
   ],
   "source": [
    "fenestraTask.db_operation(\"custom_query\",connection_params, query=\"SELECT column_name FROM information_schema.columns WHERE table_schema = 'public' AND table_name = 'ads_data_imp'\")"
   ]
  },
  {
   "cell_type": "markdown",
   "id": "bd5853bb",
   "metadata": {},
   "source": [
    "# a. How many records are there per day and per hour?"
   ]
  },
  {
   "cell_type": "code",
   "execution_count": 30,
   "id": "ce837a2b",
   "metadata": {
    "ExecuteTime": {
     "end_time": "2023-12-21T18:30:31.162232Z",
     "start_time": "2023-12-21T18:30:21.049376Z"
    }
   },
   "outputs": [
    {
     "name": "stdout",
     "output_type": "stream",
     "text": [
      "('2019-09-01', '07', 1922)\n",
      "('2019-09-01', '08', 619719)\n",
      "('2019-09-01', '09', 546879)\n",
      "('2019-09-01', '10', 450611)\n",
      "('2019-09-01', '11', 391433)\n",
      "('2019-09-01', '12', 361572)\n",
      "('2019-09-01', '13', 377933)\n",
      "('2019-09-01', '14', 349846)\n",
      "('2019-09-01', '15', 343789)\n",
      "('2019-09-01', '16', 355513)\n",
      "('2019-09-01', '17', 355473)\n",
      "('2019-09-01', '18', 351378)\n",
      "('2019-09-01', '19', 373065)\n",
      "('2019-09-01', '20', 409407)\n",
      "('2019-09-01', '21', 432227)\n",
      "('2019-09-01', '22', 410626)\n",
      "('2019-09-01', '23', 302934)\n",
      "('2019-09-02', '00', 195228)\n",
      "('2019-09-02', '01', 147194)\n",
      "('2019-09-02', '02', 134168)\n",
      "('2019-09-02', '03', 137303)\n",
      "('2019-09-02', '04', 145686)\n",
      "('2019-09-02', '05', 204409)\n",
      "('2019-09-02', '06', 381237)\n",
      "('2019-09-02', '07', 538973)\n"
     ]
    }
   ],
   "source": [
    "fenestraTask.db_operation(\"custom_query\",connection_params, query=\"SELECT LEFT(Time, 10) AS Date, SUBSTRING(Time, 12, 2) AS Hour, COUNT(*) AS RecordCount FROM ads_data_imp GROUP BY Date, Hour ORDER BY Date, Hour\")"
   ]
  },
  {
   "cell_type": "markdown",
   "id": "a678d20e",
   "metadata": {},
   "source": [
    "# b. What is the total of the EstimatedBackFillRevenue field per day and per hour"
   ]
  },
  {
   "cell_type": "code",
   "execution_count": 31,
   "id": "511c6071",
   "metadata": {
    "ExecuteTime": {
     "end_time": "2023-12-21T18:32:45.712599Z",
     "start_time": "2023-12-21T18:32:36.262563Z"
    }
   },
   "outputs": [
    {
     "name": "stdout",
     "output_type": "stream",
     "text": [
      "('2019-09-01', '07', Decimal('0.8335734388884032191784'))\n",
      "('2019-09-01', '08', Decimal('202.2057374181697037894383'))\n",
      "('2019-09-01', '09', Decimal('186.4349177893931070293848'))\n",
      "('2019-09-01', '10', Decimal('159.1024052623410633852715'))\n",
      "('2019-09-01', '11', Decimal('143.5612254276205989843509'))\n",
      "('2019-09-01', '12', Decimal('135.6108092889890548586095'))\n",
      "('2019-09-01', '13', Decimal('144.7465090085866646002467'))\n",
      "('2019-09-01', '14', Decimal('138.3017635600974612789538'))\n",
      "('2019-09-01', '15', Decimal('132.7623508021526204241631'))\n",
      "('2019-09-01', '16', Decimal('134.1169707038224484628050'))\n",
      "('2019-09-01', '17', Decimal('126.0064579681296510230156'))\n",
      "('2019-09-01', '18', Decimal('122.3418028032400099974698'))\n",
      "('2019-09-01', '19', Decimal('122.2833037258964397361316'))\n",
      "('2019-09-01', '20', Decimal('124.2178134490790983583709'))\n",
      "('2019-09-01', '21', Decimal('121.2184865853885268430332'))\n",
      "('2019-09-01', '22', Decimal('112.4167751439715904660451'))\n",
      "('2019-09-01', '23', Decimal('91.2014033721972769444377'))\n",
      "('2019-09-02', '00', Decimal('71.8253528607497953669103'))\n",
      "('2019-09-02', '01', Decimal('70.3150586112533949743763'))\n",
      "('2019-09-02', '02', Decimal('63.1767981581562612373884'))\n",
      "('2019-09-02', '03', Decimal('60.0795236504634383732612'))\n",
      "('2019-09-02', '04', Decimal('61.2009746684333298667797'))\n",
      "('2019-09-02', '05', Decimal('83.1253163102661700099707'))\n",
      "('2019-09-02', '06', Decimal('131.4895030709744670287766'))\n",
      "('2019-09-02', '07', Decimal('176.6546879797871075231560'))\n"
     ]
    }
   ],
   "source": [
    "fenestraTask.db_operation(\"custom_query\",connection_params, query=\"SELECT LEFT(Time, 10) AS Date, SUBSTRING(Time, 12, 2) AS Hour, SUM(EstimatedBackfillRevenue) AS TotalRevenue FROM ads_data_imp GROUP BY Date, Hour ORDER BY Date, Hour\")"
   ]
  },
  {
   "cell_type": "markdown",
   "id": "8926f433",
   "metadata": {},
   "source": [
    "# c. How many records and what is the total of the EstimatedBackFillRevenue field per Buyer?"
   ]
  },
  {
   "cell_type": "code",
   "execution_count": 8,
   "id": "967cc407",
   "metadata": {
    "ExecuteTime": {
     "end_time": "2023-12-21T19:19:36.739801Z",
     "start_time": "2023-12-21T19:19:23.569680Z"
    },
    "scrolled": true
   },
   "outputs": [
    {
     "name": "stdout",
     "output_type": "stream",
     "text": [
      "('Google AdWords', 4415341, Decimal('1098.0846796178389793280320'))\n",
      "('PubMatic (EB)', 280785, Decimal('210.677439126704056029742'))\n",
      "('Rubicon (EB)', 345977, Decimal('181.780219457398453006247'))\n",
      "('Index Exchange (EB)', 418144, Decimal('166.4635628530060737107575'))\n",
      "('DoubleClick Bid Manager (Europe)', 200167, Decimal('134.0452139171883589668991'))\n",
      "('Criteo (UK)', 273454, Decimal('132.3224766878745176922000'))\n",
      "('OpenX (EB)', 302191, Decimal('131.8813076154407354886230'))\n",
      "('TripleLift (EB)', 153778, Decimal('109.400828281159895057127'))\n",
      "('Amazon EU', 119702, Decimal('59.1615141741159075665922'))\n",
      "('Google: DCLK Bid Manager', 56352, Decimal('54.7718270566631802813959'))\n",
      "('Sovrn (EB)', 44288, Decimal('32.6094423612195658085250'))\n",
      "('DBM AUNZ', 23232, Decimal('28.9617383300555775115638'))\n",
      "('RhythmOne (EB)', 11449, Decimal('28.73083726647599044411'))\n",
      "('Infectious Media w/DBM', 38281, Decimal('27.668735758394800143359'))\n",
      "('GroupM PBU (MediaCom UK IE)', 2871, Decimal('21.877614687266169023211'))\n",
      "('DBM (Sky)', 28120, Decimal('20.8732472780749092784522'))\n",
      "('Amazon.com', 14201, Decimal('18.4712609473884635755031'))\n",
      "('Aegis Media Network UK w/DBM', 17028, Decimal('18.385723866827426806009'))\n",
      "('Criteo Europe', 32335, Decimal('14.810998451471064167528'))\n",
      "('inMobi w/ Beeswax', 17487, Decimal('13.849190466538355611669'))\n",
      "('The Trade Desk', 12042, Decimal('13.3333164413140314599070'))\n",
      "('DBM SEA', 18272, Decimal('12.1157550423089537916590'))\n",
      "('DBM (Mediacom UK)', 5033, Decimal('10.517585228170895654138'))\n",
      "('Xaxis w/ Invite Media', 4957, Decimal('10.476804728028487749607'))\n",
      "('Aegis Media Network w/ Invite Media (Europe)', 11944, Decimal('10.2582386338861037015601'))\n",
      "('Media IQ Digital w/DBM', 18316, Decimal('9.9714218358826480968896'))\n",
      "('Captify Media w/DBM', 4539, Decimal('9.545350200728321546281'))\n",
      "('Criteo (US)', 7969, Decimal('9.1435121955774210887394'))\n",
      "('Criteo (AU)', 17662, Decimal('8.8131442128497397600734'))\n",
      "('Omnicom Media Group w/ Invite Media (Europe)', 4873, Decimal('8.6212825222984228480458'))\n",
      "('Eskimi', 27040, Decimal('8.5243480022847186061729'))\n",
      "('Vivaki UK w/DBM', 3161, Decimal('7.717895555683403273870'))\n",
      "('Cadreon w/ DBM', 7240, Decimal('7.6146637264659471136785'))\n",
      "('DBM (JellyFish)', 1707, Decimal('6.9196803904974864010688'))\n",
      "('Verizon Media DSP - Global', 7412, Decimal('6.3758628773554695718243'))\n",
      "('DBM (Periscopix Ltd)', 8001, Decimal('6.3579503851005382020156'))\n",
      "('Jellyfish DBM', 5814, Decimal('6.3309789374735604096668'))\n",
      "('M&C Saatchi Mobile w/DBM 217206623', 30116, Decimal('6.2327872563061843138769'))\n",
      "('Accuen IE w/ DBM', 15712, Decimal('6.2153743418168952026850'))\n",
      "('Sociomantic (EMEA 2)', 2118, Decimal('6.079273910985596594364'))\n",
      "('DV360_US_Publicis', 2358, Decimal('5.92451079957694710094'))\n",
      "('Accuen AU w/ DBM', 5574, Decimal('5.8779087394516864104418'))\n",
      "('Google: DCLK Bid Manager (China)', 8563, Decimal('5.5848365376162679898007'))\n",
      "('DBM (GroupM IE)', 3881, Decimal('5.449556959067661001592'))\n",
      "('Collective Media UK w/DBM', 1131, Decimal('5.35659112426456779618'))\n",
      "('MobPro USD', 6222, Decimal('5.216508861439351988287'))\n",
      "('DBM (booking.com)', 3320, Decimal('4.37672685413451479036'))\n",
      "('Google Bid Manager - Canada', 5713, Decimal('4.3527249361868635692597'))\n",
      "('RTB House', 10579, Decimal('4.342933869319443290386'))\n",
      "('Crimson Tangerine', 9498, Decimal('4.284878495912463038151'))\n",
      "('MightyHive - DBM - Global', 3098, Decimal('3.9720729723341808693213'))\n",
      "('AdRoll.com 3', 4880, Decimal('3.9285275393276515636284'))\n",
      "('Criteo (MEA)', 6471, Decimal('3.7756797499119490134350'))\n",
      "('Sojern DBM Adx', 3842, Decimal('3.7254762928346991845109'))\n",
      "('Liftoff', 109117, Decimal('3.5780162195527390256272'))\n",
      "('Adobe NA', 1620, Decimal('3.3770438081701066343196'))\n",
      "('DBM (mSix)', 21951, Decimal('3.3645699758342299466556'))\n",
      "('AdSwerve // DBM', 2916, Decimal('3.2920687525954173451607'))\n",
      "('DBM (Warner Bros - UK - PHD)', 1396, Decimal('2.99115038614796496740'))\n",
      "('DBM (TalkTalk)', 381, Decimal('2.70543052287663488543'))\n",
      "('DQ&A w/DBM', 9866, Decimal('2.6714074693537018104225'))\n",
      "('Publicis Mediavest w/ DBM', 1850, Decimal('2.545617403330425301003'))\n",
      "('Quantcast', 6529, Decimal('2.5080463616626852011886'))\n",
      "('Accuen EMEA w/DBM', 1244, Decimal('2.483953237905846004321'))\n",
      "('DBM (888)', 5046, Decimal('2.411389567446328085175'))\n",
      "('Accuen w/ Invite Media', 1326, Decimal('2.354461530707869199828'))\n",
      "('Thomas Cook w/DBM', 3234, Decimal('2.3388949175991686086528'))\n",
      "('Zenith Vivaki UK w/TheTradeDesk', 382, Decimal('2.287245314358217896313'))\n",
      "('travelaudience', 839, Decimal('2.28673751985300921634'))\n",
      "('Wavemaker UK w/Amazon', 2865, Decimal('2.212890394673206884368'))\n",
      "('DBM (Cadreon UK)', 2153, Decimal('2.200921070146712212199'))\n",
      "('Media IQ Digital w/ AppNexus', 329, Decimal('2.17560036549864056180'))\n",
      "('MediaMath', 1402, Decimal('2.149139999072697771318'))\n",
      "('BlisMobile', 2473, Decimal('2.123702616722782073032'))\n",
      "('Adara Media', 2852, Decimal('2.1096511703901408102436'))\n",
      "('DBM (Essence)', 512, Decimal('2.03493800086003111224'))\n",
      "('Moloco Ads', 17857, Decimal('2.0196532219184608992752'))\n",
      "('Acceleration // DBM', 1642, Decimal('2.0005723092971758208552'))\n",
      "('DBM (Acceleration - EMEA)', 1265, Decimal('1.999679149706299182869'))\n",
      "('DBM (The 7 Stars)', 1593, Decimal('1.98090061310106069053'))\n",
      "('Net Media Planet w/DBM', 2601, Decimal('1.932031554529407600023'))\n",
      "('DBM (Mindshare UK)', 425, Decimal('1.91710831212876254096'))\n",
      "('Aegis Media Network w/ Invite Media (AU)', 555, Decimal('1.9032064104562312554928'))\n",
      "('DBM (Affiperf UK)', 5344, Decimal('1.8581466323475993439501'))\n",
      "('AMNET (ZA) w/DBM', 3048, Decimal('1.8380312322148942140056'))\n",
      "('Pixidis (FR) w/ DBM', 2649, Decimal('1.7902706118107595325311'))\n",
      "('Accuen UK w/ The Trade Desk', 1772, Decimal('1.679955131413038947628'))\n",
      "('Adara DBM Adx', 3788, Decimal('1.6523509948394418861970'))\n",
      "('Audience2Media w/DBM', 4047, Decimal('1.6133716040100068150700'))\n",
      "('Cadreon w/ DBM AU', 1226, Decimal('1.5835801713638121266835'))\n",
      "('Criteo (SG)', 2494, Decimal('1.5542595578947769315958'))\n",
      "('Adform Group 3', 2683, Decimal('1.5260087639172977172523'))\n",
      "('DBM (SEAT)', 929, Decimal('1.5076336692247734832148'))\n",
      "('DBM (360i UK)', 2832, Decimal('1.4948664992863733835084'))\n",
      "('LoopMe Media', 294, Decimal('1.48363585964690546479'))\n",
      "('Amnet UK w/Amazon', 1436, Decimal('1.461063654383822121625'))\n",
      "('Xaxis EMEA w/The Trade Desk', 334, Decimal('1.43473557746489973355'))\n",
      "('AppNexus', 424, Decimal('1.31584264263372840769'))\n",
      "('RTB House (APAC)', 2248, Decimal('1.3037796472761757810820'))\n",
      "('Google: Invite Media (2)', 650, Decimal('1.26456772271700929632'))\n",
      "('Aarki AdX', 1664, Decimal('1.2472969578222202459869'))\n",
      "('Vivaki (UAE) w/DBM', 2317, Decimal('1.2212005929590727194899'))\n",
      "('SMG Vivaki UK w/DBM', 645, Decimal('1.21636915009398110095'))\n",
      "('Amobee APAC', 1460, Decimal('1.2045058215078940737262'))\n",
      "('Centro', 975, Decimal('1.191131434515530929446'))\n",
      "('Vivaki UK Blue449 w/Amazon', 1285, Decimal('1.189240762741283334689'))\n",
      "('Periscope UK w/Amazon', 1466, Decimal('1.165107376960568396606'))\n",
      "('Smaato (EB)', 942, Decimal('1.16083220736412768647'))\n",
      "('Magnet Intell w/ Invite Media', 1042, Decimal('1.1602578572684305807398'))\n",
      "('Vivaki UK w/TheTradeDesk', 347, Decimal('1.116442093530164021168'))\n",
      "('FCB NZ w/ DBM', 743, Decimal('1.0977826996486395280746'))\n",
      "(\"DBM (L\\\\'Oréal GB)\", 318, Decimal('1.05448048213327813208'))\n",
      "('Aegis Media Network w/ Invite Media', 311, Decimal('1.00257533829180984286'))\n",
      "('DV360 (BR)', 3610, Decimal('0.9645762044926561262951'))\n",
      "('MightyHive w/ DBM AUNZ', 2526, Decimal('0.9549544024603054050558'))\n",
      "('LinkedIn RTB', 1214, Decimal('0.953566595147526573832'))\n",
      "('Beeswax.io', 641, Decimal('0.926204852391140717895'))\n",
      "('Blue449 Vivaki UK w/DBM', 1576, Decimal('0.9249181109750295983342'))\n",
      "('Hoy AG w/DBM', 504, Decimal('0.916904324875839467087'))\n",
      "('Accuen UK w/Amazon', 1798, Decimal('0.905546325773091081474'))\n",
      "('Admatic w/DBM (AU)', 865, Decimal('0.8891120249661699507138'))\n",
      "('DAN FR w/DBM', 1832, Decimal('0.8856420958472445030398'))\n",
      "('DBM India', 2979, Decimal('0.7749519321252923653766'))\n",
      "('Neo@Media World Spain w/ DBM', 1135, Decimal('0.7562046191304064863127'))\n",
      "('Dept Marketplaces DE w/ Amazon', 1567, Decimal('0.7473519039214785371095'))\n",
      "('Adikteev', 122, Decimal('0.744333073804752943248'))\n",
      "('AdMaxim EMEA', 1174, Decimal('0.737249422624488585052'))\n",
      "('Ad Effectiveness Surveys 2', 1231, Decimal('0.7019864631009734481778'))\n",
      "('Exponential: Tribal Fusion', 226, Decimal('0.701857460289779630749'))\n",
      "('MediaMath (EMEA)', 2311, Decimal('0.6994384521614073139694'))\n",
      "('Wayfair w/ AppNexus', 317, Decimal('0.6779220979326169209'))\n",
      "('Accuen OMD NZ w/ DBM', 363, Decimal('0.6638049176834437797648'))\n",
      "('Xaxis w/ Amazon (CA)', 210, Decimal('0.65588480241531155168'))\n",
      "('Agency M w/ DBM', 440, Decimal('0.630845931934370238694'))\n",
      "('TTD_US_Publicis', 322, Decimal('0.61055798027076896019'))\n",
      "('DBM (All Response Media)', 633, Decimal('0.609636062091409646423'))\n",
      "('Ptarmigan Media Limited w/DBM', 282, Decimal('0.599232848126286486762'))\n",
      "('Postmedia - DBM', 637, Decimal('0.5990159262017313627008'))\n",
      "('TravelClick w/DBM', 336, Decimal('0.593310222246766089199'))\n",
      "('DBM (Mindshare Worldwide)', 797, Decimal('0.589081888065854327982'))\n",
      "('Amnet w/ TTD P&G', 305, Decimal('0.57277905509199692527'))\n",
      "('DBM (Maxus UK)', 110, Decimal('0.5722967324794444081'))\n",
      "('Qantas w/ DBM', 142, Decimal('0.57120965783479880734'))\n",
      "('Newsquest w/DBM', 1159, Decimal('0.5394601761499114587226'))\n",
      "('Blue Mango Interactive w/ DBM', 473, Decimal('0.534445499992487347978'))\n",
      "('Omnicom Media Group w/ DBM (PT)', 869, Decimal('0.5329081480195985238393'))\n",
      "('remerge', 1676, Decimal('0.5296715743043611900458'))\n",
      "('Publicis Digitas w/ The Trade Desk', 123, Decimal('0.52179336440801799719'))\n",
      "('DataXu', 598, Decimal('0.5170679174833340652918'))\n",
      "('Accuen PHD NZ w/ DBM', 385, Decimal('0.50065087182950255054'))\n",
      "('DBM (Brainlabs Digital)', 198, Decimal('0.49349984338479306638'))\n",
      "('DBM (Mediacom Worldwide)', 545, Decimal('0.483565805248916045207'))\n",
      "('AffiPerf w/ MediaMath (USD)', 336, Decimal('0.477006382052993277639'))\n",
      "('District M', 158, Decimal('0.4737147561826604708'))\n",
      "('Amnet (IT) w/DBM', 511, Decimal('0.4694165797154336332785'))\n",
      "('TripAdvisor w/DBM', 384, Decimal('0.46918322431174553939'))\n",
      "('Manage.com', 924, Decimal('0.454767776416309096816'))\n",
      "('IPG Traffic4U w/DBM', 634, Decimal('0.453826138061990242757'))\n",
      "('Goodway Group', 312, Decimal('0.44794952592404214680'))\n",
      "('Accuen w/ Verizon Media DSP', 190, Decimal('0.43447407303501127350'))\n",
      "('RPA w/ DBM', 161, Decimal('0.42197805550230509365'))\n",
      "('Annalect Media India Private Limited', 574, Decimal('0.420480143879335385883'))\n",
      "('Kepler w/ DBM', 277, Decimal('0.41287062136681618227'))\n",
      "('IgnitionOne', 270, Decimal('0.40830868755950524105'))\n",
      "('Merkle w/ Invite Media', 361, Decimal('0.4021863949085193297628'))\n",
      "('Marin Display Bidder', 279, Decimal('0.394689441728060930445'))\n",
      "('TabMo (FR)', 266, Decimal('0.3917536006809568357448'))\n",
      "('Knorex', 193, Decimal('0.388973877685615888039'))\n",
      "('DBM (Neo@Ogilvy EMEA)', 179, Decimal('0.38269300196099686451'))\n",
      "('Accuen NL w/Invite (Legacy)', 524, Decimal('0.3788902948896288876978'))\n",
      "('Active Agent', 689, Decimal('0.37447051067681809